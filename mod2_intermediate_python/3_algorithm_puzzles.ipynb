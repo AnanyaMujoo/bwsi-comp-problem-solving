{
 "cells": [
  {
   "cell_type": "markdown",
   "metadata": {},
   "source": [
    "# Algorithm Puzzles\n",
    "Below are some programming puzzles. Some of these are classic introductions to algorithmic thinking. All of them can be done in one to two dozen lines of code with python built-ins and loops. If you'd like to give yourself an additional challenge, try to account for kinds of inputs that aren't set out in the examples. "
   ]
  },
  {
   "cell_type": "markdown",
   "metadata": {},
   "source": [
    "## Longest Palidrome Substring"
   ]
  },
  {
   "cell_type": "markdown",
   "metadata": {},
   "source": [
    "### Q1. Write a function that returns the longest palindrome substring from the input string.\n",
    "A palindrome is a string of characters that are the same backwards as they are forwards. For example, the word 'level' is a palindrome, and so is the number 131. The task below is not just to detect if a word is a palindrome, but to find the part of a word that has a palindrome. See examples below for clarification:\n",
    "```python\n",
    "# Example\n",
    "longest_palindrome('apple') # returns 'pp'\n",
    "longest_palindrome('epiphany') # returns 'pip'\n",
    "longest_palindrome('12345556778') #returns '555'\n",
    "```"
   ]
  },
  {
   "cell_type": "code",
   "execution_count": null,
   "metadata": {},
   "outputs": [],
   "source": [
    "# Write your function here!\n",
    "def detect_palindrome(string):\n",
    "    left, right = 0, len(string) - 1\n",
    "    while left < right:\n",
    "        if string[left] != string[right]:\n",
    "            return False\n",
    "        left += 1\n",
    "        right -= 1\n",
    "    return True\n",
    "\n",
    " \n",
    "def longest_palindrome(string) -> str:\n",
    "    longest = \"\"\n",
    "    for i in range(len(string)):\n",
    "        for j in range(i + 1, len(string) + 1):\n",
    "            substring = string[i:j]\n",
    "            if detect_palindrome(substring) and len(substring) > len(longest):\n",
    "                longest = substring\n",
    "    if longest == \"\":\n",
    "        return None\n",
    "    else:\n",
    "        return longest\n",
    "\n",
    "            \n",
    "            \n",
    "print(longest_palindrome(\"apple\"))\n",
    "print(longest_palindrome(\"epiphany\"))\n",
    "print(longest_palindrome(\"12345556778\"))\n",
    "print(longest_palindrome(\"bingbopbopboombingbombam\"))\n",
    "print(longest_palindrome(\"levelup!\"))\n",
    "\n",
    "\n",
    "\n",
    "\n"
   ]
  },
  {
   "cell_type": "markdown",
   "metadata": {},
   "source": [
    "## Roman Numeral to Integer"
   ]
  },
  {
   "cell_type": "markdown",
   "metadata": {},
   "source": [
    "### Q2. Write a function that converts a Roman numeral string into an integer.\n",
    "Roman numerals convert very easily into integers: I is 1, V is 5, and X is 10. String them together like XVI, and the number is 16. However, when the numeral I is *in front* of another numeral, it will subract from the next numeral in the sequence. So IV is 4, while VI is 6. Your task is to write a function to account for this property.\n",
    "```python\n",
    "# Example\n",
    "rom_to_int('IV') #returns 4\n",
    "rom_to_int('VI') #returns 6\n",
    "rom_to_int('XII') #returns 12\n",
    "rom_to_int('XXIX') #returns 29\n",
    "```"
   ]
  },
  {
   "cell_type": "code",
   "execution_count": null,
   "metadata": {},
   "outputs": [],
   "source": [
    "# Write your funciton here!\n",
    "def rom_to_int(string) -> int:\n",
    "    roman_values = {'I':1, 'V':5, 'X':10}\n",
    "    total_num = 0\n",
    "    for i in range(len(string)):\n",
    "        if i + 1 < len(string) and roman_values[string[i]] < roman_values[string[i + 1]]:\n",
    "            total_num -= roman_values[string[i]]\n",
    "        else: \n",
    "            total_num += roman_values[string[i]]\n",
    "\n",
    "    return total_num\n",
    "\n",
    "print(rom_to_int('IV')) #returns 4\n",
    "print(rom_to_int('VI')) #returns 6\n",
    "print(rom_to_int('XII')) #returns 12\n",
    "print(rom_to_int('XXIX')) #returns 29"
   ]
  },
  {
   "cell_type": "markdown",
   "metadata": {},
   "source": [
    "## Pascal's Triangle"
   ]
  },
  {
   "cell_type": "markdown",
   "metadata": {},
   "source": [
    "### Q.3 Write a function that generates values from Pascal's triangle.\n",
    "Pascal's triangle is an expanding list of numbers.\n",
    "<p>\n",
    "<img src = \"https://upload.wikimedia.org/wikipedia/commons/0/0d/PascalTriangleAnimated2.gif\">\n",
    "</p>\n",
    "Notice that every value is the sum of the numbers above it! \n",
    "\n",
    "Pascal's triangle generates something called *binomial coefficients*, an essential element of probability and combinatorics. "
   ]
  },
  {
   "cell_type": "markdown",
   "metadata": {},
   "source": [
    "Here are some examples for you to test your code!\n",
    "```python\n",
    "# Example\n",
    "pasc_generation(1) #returns [[1],[1,1]]\n",
    "pasc_generation(4) #returns [[1],[1,1],[1,2,1],[1,3,3,1],[1,4,6,4,1]]\n",
    "```"
   ]
  },
  {
   "cell_type": "code",
   "execution_count": null,
   "metadata": {},
   "outputs": [],
   "source": [
    "# Write you function here!\n",
    "def pasc_generation(columns) -> list:\n",
    "    pasc_list = []\n",
    "    for i in range(columns+1):\n",
    "        if i == 0:\n",
    "            pasc_list.append([1])\n",
    "        else:\n",
    "            prev_row = pasc_list[-1]\n",
    "            new_row = [1]\n",
    "            \n",
    "            # Fill the middle numbers (sum of two above)\n",
    "            for j in range(1, len(prev_row)):\n",
    "                new_row.append(prev_row[j - 1] + prev_row[j])\n",
    "            \n",
    "            new_row.append(1)\n",
    "            pasc_list.append(new_row)\n",
    "    return pasc_list\n",
    "print(pasc_generation(1))\n",
    "           \n",
    "print(pasc_generation(4))\n"
   ]
  },
  {
   "cell_type": "markdown",
   "metadata": {},
   "source": [
    "## "
   ]
  }
 ],
 "metadata": {
  "kernelspec": {
   "display_name": "base",
   "language": "python",
   "name": "python3"
  },
  "language_info": {
   "codemirror_mode": {
    "name": "ipython",
    "version": 3
   },
   "file_extension": ".py",
   "mimetype": "text/x-python",
   "name": "python",
   "nbconvert_exporter": "python",
   "pygments_lexer": "ipython3",
   "version": "3.13.5"
  }
 },
 "nbformat": 4,
 "nbformat_minor": 2
}
