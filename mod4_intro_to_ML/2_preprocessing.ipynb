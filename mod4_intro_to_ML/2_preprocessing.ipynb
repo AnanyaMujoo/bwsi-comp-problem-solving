{
  "cells": [
    {
      "cell_type": "markdown",
      "id": "36afa36f-ml-0",
      "metadata": {},
      "source": [
        "# Types of Machine Learning (Pre-Intro Module)"
      ]
    },
    {
      "cell_type": "markdown",
      "id": "overview-ml-1",
      "metadata": {},
      "source": [
        "### Lesson Overview\n",
        "**Audience:** High school students (no prior ML required)  \n",
        "**Duration:** ~60 minutes  \n",
        "**Goals:**\n",
        "- Distinguish **Supervised**, **Unsupervised**, **Deep Learning**, and **Reinforcement Learning**.\n",
        "- Explain when labeled vs. unlabeled data is used.\n",
        "- Recognize real-world **applications** (robotics, images, language, LLMs).\n",
        "- Appreciate why simpler models can sometimes beat complex ones."
      ]
    },
    {
      "cell_type": "code",
      "execution_count": null,
      "id": "imports-ml-2",
      "metadata": {},
      "outputs": [],
      "source": [
        "import numpy as np\n",
        "import matplotlib.pyplot as plt\n",
        "from sklearn import datasets\n",
        "from sklearn.model_selection import train_test_split\n",
        "from sklearn.neighbors import KNeighborsClassifier\n",
        "from sklearn.linear_model import LogisticRegression\n",
        "from sklearn.cluster import KMeans\n",
        "from sklearn.neural_network import MLPClassifier\n",
        "np.random.seed(42)"
      ]
    },
    {
      "cell_type": "markdown",
      "id": "agenda-ml-3",
      "metadata": {},
      "source": [
        "## Agenda\n",
        "1. What is **Machine Learning**? (2 min)\n",
        "2. **Supervised Learning** (labels) + Demo (12 min)\n",
        "3. **Unsupervised Learning** (no labels) + Demo (10 min)\n",
        "4. **Deep Learning** (neural networks) + Mini-demo (10 min)\n",
        "5. **Reinforcement Learning** (learn from mistakes) + Mini-sim (12 min)\n",
        "6. **Applications** & Choosing Model Complexity (9 min)\n",
        "7. Exit Ticket (5 min)"
      ]
    },
    {
      "cell_type": "markdown",
      "id": "what-ml-4",
      "metadata": {},
      "source": [
        "## What is Machine Learning?\n",
        "ML is about finding patterns in data to make predictions or decisions **without** being explicitly programmed for each situation."
      ]
    },
    {
      "cell_type": "markdown",
      "id": "supervised-5",
      "metadata": {},
      "source": [
        "## Supervised Learning\n",
        "- You **must have a labeled dataset**: each example comes with the correct answer (the *label*).\n",
        "- The model learns a mapping from inputs → label.\n",
        "- Tasks: **classification** (cat vs. dog), **regression** (predict house price).\n",
        "\n",
        "**Note (reference):** There is also **semi-supervised learning**, where you have **a few labeled** samples and **many unlabeled** ones. You use both to improve learning.\n",
        "\n",
        "**Examples:**\n",
        "- Email spam filter (label: spam / not-spam)\n",
        "- Predicting exam score from study hours\n",
        "\n",
        "### Q: Why are labels so important in supervised learning? Give one example of a label."
      ]
    },
    {
      "cell_type": "markdown",
      "id": "supervised-a-6",
      "metadata": {},
      "source": [
        "### A:\n",
        "YOUR ANSWER HERE"
      ]
    },
    {
      "cell_type": "code",
      "execution_count": null,
      "id": "supervised-demo-7",
      "metadata": {},
      "outputs": [],
      "source": [
        "# Demo: Supervised classification on synthetic data\n",
        "X, y = datasets.make_classification(\n",
        "    n_samples=600, n_features=2, n_informative=2, n_redundant=0, random_state=42\n",
        ")\n",
        "\n",
        "X_train, X_test, y_train, y_test = train_test_split(X, y, test_size=0.25, random_state=42)\n",
        "\n",
        "# Try a simple model (KNN)\n",
        "knn = KNeighborsClassifier(n_neighbors=5)\n",
        "knn.fit(X_train, y_train)\n",
        "print(\"KNN accuracy:\", round(knn.score(X_test, y_test), 3))\n",
        "\n",
        "# Try a linear model (Logistic Regression)\n",
        "lr = LogisticRegression(max_iter=1000)\n",
        "lr.fit(X_train, y_train)\n",
        "print(\"Logistic Regression accuracy:\", round(lr.score(X_test, y_test), 3))\n",
        "\n",
        "# Visualize points\n",
        "plt.figure()\n",
        "plt.scatter(X_test[:,0], X_test[:,1], c=y_test)\n",
        "plt.title(\"Supervised: test points (colored by true label)\")\n",
        "plt.xlabel(\"Feature 1\")\n",
        "plt.ylabel(\"Feature 2\")\n",
        "plt.show()"
      ]
    },
    {
      "cell_type": "markdown",
      "id": "unsupervised-8",
      "metadata": {},
      "source": [
        "## Unsupervised Learning\n",
        "- **No labels**: the goal is to **find structure** in unlabeled data.\n",
        "- Tasks: **clustering** (group similar things), **dimensionality reduction** (compress features).\n",
        "\n",
        "**Examples:**\n",
        "- Grouping songs by listening patterns\n",
        "- Segmenting customers by shopping behavior\n",
        "\n",
        "### Q: How would you explain the difference between *classification* and *clustering* to a friend?"
      ]
    },
    {
      "cell_type": "markdown",
      "id": "unsupervised-a-9",
      "metadata": {},
      "source": [
        "### A:\n",
        "YOUR ANSWER HERE"
      ]
    },
    {
      "cell_type": "code",
      "execution_count": null,
      "id": "unsupervised-demo-10",
      "metadata": {},
      "outputs": [],
      "source": [
        "# Demo: Unsupervised clustering (KMeans) on unlabeled blobs\n",
        "X_blobs, _ = datasets.make_blobs(n_samples=400, centers=3, n_features=2, cluster_std=1.0, random_state=42)\n",
        "\n",
        "kmeans = KMeans(n_clusters=3, n_init=10, random_state=42)\n",
        "labels = kmeans.fit_predict(X_blobs)\n",
        "centers = kmeans.cluster_centers_\n",
        "\n",
        "plt.figure()\n",
        "plt.scatter(X_blobs[:,0], X_blobs[:,1], c=labels)\n",
        "plt.scatter(centers[:,0], centers[:,1], marker='x', s=120)\n",
        "plt.title(\"Unsupervised: KMeans clusters (colors) and centers (x)\")\n",
        "plt.xlabel(\"Feature 1\")\n",
        "plt.ylabel(\"Feature 2\")\n",
        "plt.show()"
      ]
    },
    {
      "cell_type": "markdown",
      "id": "deep-11",
      "metadata": {},
      "source": [
        "## Deep Learning\n",
        "- Uses **neural networks** with multiple layers (can be applied to supervised or unsupervised tasks).\n",
        "- Powerful for images, speech, and language.\n",
        "- **Caution:** Some neural networks can be prone to **overfitting**. Sometimes the **simplest/easiest-to-explain** model is best!\n",
        "\n",
        "**Applications:**\n",
        "- Image classification (what’s in a photo?)\n",
        "- Natural language processing (e.g., **Siri**) \n",
        "- Recent rise of **LLMs** (like ChatGPT) built on **Transformer** neural networks\n",
        "\n",
        "### Q: Why might a simple model outperform a deep network on a small dataset?"
      ]
    },
    {
      "cell_type": "markdown",
      "id": "deep-a-12",
      "metadata": {},
      "source": [
        "### A:\n",
        "YOUR ANSWER HERE"
      ]
    },
    {
      "cell_type": "code",
      "execution_count": null,
      "id": "deep-demo-13",
      "metadata": {},
      "outputs": [],
      "source": [
        "# Mini-demo: A tiny neural net (MLP) on a simple dataset\n",
        "X_moons, y_moons = datasets.make_moons(n_samples=600, noise=0.2, random_state=42)\n",
        "X_tr, X_te, y_tr, y_te = train_test_split(X_moons, y_moons, test_size=0.25, random_state=42)\n",
        "\n",
        "mlp = MLPClassifier(hidden_layer_sizes=(16, 8), activation='relu', max_iter=1000, random_state=42)\n",
        "mlp.fit(X_tr, y_tr)\n",
        "print(\"MLP accuracy:\", round(mlp.score(X_te, y_te), 3))\n",
        "\n",
        "plt.figure()\n",
        "plt.scatter(X_te[:,0], X_te[:,1], c=y_te)\n",
        "plt.title(\"Deep Learning demo: test points (true labels)\")\n",
        "plt.xlabel(\"x1\")\n",
        "plt.ylabel(\"x2\")\n",
        "plt.show()"
      ]
    },
    {
      "cell_type": "markdown",
      "id": "rl-14",
      "metadata": {},
      "source": [
        "## Reinforcement Learning (RL)\n",
        "- Learn by **trial and error**: take an action → get **reward** → learn what to do next time.\n",
        "- Goal: pick actions to **maximize long-term reward**.\n",
        "- Applications: **Robotics**, game-playing, recommendation systems.\n",
        "\n",
        "*(Reference idea: see an introductory article on Reinforcement Learning, e.g., a tutorial from a programming site.)*\n",
        "\n",
        "### Q: How is RL different from supervised learning?"
      ]
    },
    {
      "cell_type": "markdown",
      "id": "rl-a-15",
      "metadata": {},
      "source": [
        "### A:\n",
        "YOUR ANSWER HERE"
      ]
    },
    {
      "cell_type": "code",
      "execution_count": null,
      "id": "rl-demo-16",
      "metadata": {},
      "outputs": [],
      "source": [
        "# Mini-simulation: epsilon-greedy multi-armed bandit (simple RL idea)\n",
        "def bandit_sim(true_rewards, eps=0.1, steps=500):\n",
        "    n = len(true_rewards)\n",
        "    est = np.zeros(n)\n",
        "    counts = np.zeros(n)\n",
        "    rewards = []\n",
        "    for t in range(steps):\n",
        "        if np.random.rand() < eps:\n",
        "            a = np.random.randint(n)  # explore\n",
        "        else:\n",
        "            a = np.argmax(est)        # exploit\n",
        "        r = np.random.normal(true_rewards[a], 1.0)\n",
        "        counts[a] += 1\n",
        "        est[a] += (r - est[a]) / counts[a]\n",
        "        rewards.append(r)\n",
        "    return np.array(rewards)\n",
        "\n",
        "true_rewards = [0.2, 0.5, 1.0]  # arm 2 is best on average\n",
        "r = bandit_sim(true_rewards, eps=0.1, steps=500)\n",
        "cum_avg = np.cumsum(r) / (np.arange(len(r)) + 1)\n",
        "plt.figure()\n",
        "plt.plot(cum_avg)\n",
        "plt.title(\"RL demo: Cumulative average reward (epsilon-greedy)\")\n",
        "plt.xlabel(\"Step\")\n",
        "plt.ylabel(\"Avg reward\")\n",
        "plt.show()"
      ]
    },
    {
      "cell_type": "markdown",
      "id": "apps-17",
      "metadata": {},
      "source": [
        "## Applications Roundup\n",
        "- **Robotics**: perception (vision), planning, control (often RL).\n",
        "- **Image classification**: detect objects and scenes (often deep learning).\n",
        "- **Natural language processing**: assistants like **Siri**, translation, chat.\n",
        "- **LLMs**: recent rise of large language models (Transformers).",
        "\n",
        "### Q: Pick one application above. Is it supervised, unsupervised, deep, or RL? Explain your choice."
      ]
    },
    {
      "cell_type": "markdown",
      "id": "apps-a-18",
      "metadata": {},
      "source": [
        "### A:\n",
        "YOUR ANSWER HERE"
      ]
    },
    {
      "cell_type": "markdown",
      "id": "choose-model-19",
      "metadata": {},
      "source": [
        "## Choosing Model Complexity\n",
        "- Start simple; add complexity only if needed.\n",
        "- More complex ≠ always better (risk of **overfitting**).\n",
        "- Consider data size, noise, and explainability."
      ]
    },
    {
      "cell_type": "markdown",
      "id": "exit-ml-20",
      "metadata": {},
      "source": [
        "## Exit Ticket\n",
        "1. Define **supervised** vs. **unsupervised** learning in your own words.\n",
        "2. Why can deep learning overfit small datasets?\n",
        "3. How does **reinforcement learning** use rewards to improve behavior?\n",
        "4. Give one real-world application and classify it (supervised/unsupervised/deep/RL)."
      ]
    },
    {
      "cell_type": "markdown",
      "id": "exit-a-ml-21",
      "metadata": {},
      "source": [
        "### A:\n",
        "YOUR ANSWER HERE"
      ]
    }
  ],
  "metadata": {
    "kernelspec": {
      "display_name": "base",
      "language": "python",
      "name": "python3"
    },
    "language_info": {
      "codemirror_mode": {
        "name": "ipython",
        "version": 3
      },
      "file_extension": ".py",
      "mimetype": "text/x-python",
      "name": "python",
      "nbconvert_exporter": "python",
      "pygments_lexer": "ipython3",
      "version": "3.12.8"
    }
  },
  "nbformat": 4,
  "nbformat_minor": 5
}
