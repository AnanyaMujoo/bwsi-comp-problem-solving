{
 "cells": [
  {
   "cell_type": "markdown",
   "id": "1e7851d0",
   "metadata": {},
   "source": [
    "# Introduction to ML: Types of Machine Learning"
   ]
  },
  {
   "cell_type": "markdown",
   "id": "b106c7ce",
   "metadata": {},
   "source": [
    "**Welcome to the first week of machine learning content! 🤖**\n",
    "\n",
    "This week's module will serve as a overview of the different families of ML algorithms and a general introduction to setting up ML pipelines.\n",
    "\n",
    "We will cover each of these algorithm families in more depth during the remainder of the course!"
   ]
  },
  {
   "cell_type": "markdown",
   "id": "1cd75316",
   "metadata": {},
   "source": [
    "## Supervised vs. Unsupervised Learning\n",
    "<p align=\"left\">\n",
    "    <img src = \"https://upload.wikimedia.org/wikipedia/commons/4/4d/Supervised_and_unsupervised_learning.png\" width = \"500\">\n",
    "</p>\n",
    "\n",
    "### What does \"supervision\" mean?\n",
    "Supervision generally refers to the presence of truth labels when training and testing an ML model. \n",
    "\n",
    "Supervised learning models have a pre-defined set labels or classes, whereas unsupervised learning is used to find structure in a given dataset."
   ]
  },
  {
   "cell_type": "markdown",
   "id": "23b5d2c1",
   "metadata": {},
   "source": [
    "### Supervised Learning\n",
    "- must have a labeled dataset to train on\n",
    "- generally used for classification (e.g. apple or banana) or regression (e.g. prediction of ocean levels from historical data)"
   ]
  },
  {
   "cell_type": "markdown",
   "id": "ad91e36a",
   "metadata": {},
   "source": [
    "### Unsupervised Learning\n",
    "- Useful for finding structure in unlabeled data\n",
    "- Helps identify and explore high dimensions of a dataset"
   ]
  },
  {
   "cell_type": "markdown",
   "id": "3c010091",
   "metadata": {},
   "source": [
    "### Discussion 💬\n",
    "- Are there any situations you've learned from that mimic *supervised* learning?\n",
    "- Are there any situations you've learned from that mimic *unsupervised* learning?"
   ]
  },
  {
   "cell_type": "markdown",
   "id": "4e4a286b",
   "metadata": {},
   "source": [
    "### Applications\n",
    "\n",
    "Even though supervised and unsupervised learning may seem completely separate from each other, there is certainly some overlap!\n",
    "<p align=\"left\">\n",
    "    <img src = \"https://upload.wikimedia.org/wikipedia/commons/9/90/Task-guidance.png\" width = \"500\">\n",
    "</p>"
   ]
  },
  {
   "cell_type": "markdown",
   "id": "42dffc3e",
   "metadata": {},
   "source": [
    "### Discussion 💬\n",
    "- What are some other examples of problems suited for *supervised* learning?\n",
    "- What are some other examples of problems suited for *unsupervised* learning?"
   ]
  },
  {
   "cell_type": "markdown",
   "id": "bfa0236b",
   "metadata": {},
   "source": [
    "## Deep Learning\n",
    "- Neural networks consisting of multiple un/supervised layers\n",
    "- Certain kinds of NNs can be prone to overfitting, so sometimes the simplest/easiest to explain model is the best!\n",
    "\n",
    "### Applications\n",
    "- Robotics\n",
    "- Image classification\n",
    "- natural language processing (e.g Siri)\n",
    "- Recent rise in LLMs like ChatGPT which are considered transformer NNs"
   ]
  },
  {
   "cell_type": "markdown",
   "id": "667f5246",
   "metadata": {},
   "source": [
    "## Reinforcement Learning\n",
    "- Learn from mistakes\n",
    "- Geeks for Geeks reference [here](https://www.geeksforgeeks.org/machine-learning/what-is-reinforcement-learning/)\n",
    "\n",
    "### Applications\n",
    "- Robotics"
   ]
  },
  {
   "cell_type": "markdown",
   "id": "f59ae2f1",
   "metadata": {},
   "source": [
    "## Final thoughts\n",
    "<p align=\"left\">\n",
    "    <img src = \"https://miro.medium.com/1*aQJf4cz9_V25xIAMO1YwiA.png\" width = \"500\">\n",
    "</p>"
   ]
  }
 ],
 "metadata": {
  "language_info": {
   "name": "python"
  }
 },
 "nbformat": 4,
 "nbformat_minor": 5
}
